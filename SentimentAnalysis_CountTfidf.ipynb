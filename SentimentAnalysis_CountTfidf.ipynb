{
 "cells": [
  {
   "cell_type": "markdown",
   "metadata": {},
   "source": [
    "<h1 style=\"text-align:center;font-weight:bold\">SentimentAnalysis_CountTfidf</h1>"
   ]
  },
  {
   "cell_type": "markdown",
   "metadata": {},
   "source": [
    "Sentiment analysis is important because it allows understanding the emotions, opinions and attitudes expressed by people in relation to certain expectations. This is critical for businesses and organizations as it provides valuable insights into audience perception and helps make strategic decisions. It is widely used in marketing to measure reception of products and advertising campaigns, identify strengths and weaknesses, and adjust strategies. \n",
    "\n",
    "It is also applied on social media and news platforms, allowing you to identify emerging trends, monitor brand trust and respond to negative comments. In addition, it assists the government and institutions in assessing public opinion and adapting public policies according to society's needs. In short, sentiment analysis plays a crucial role in understanding human emotions and emotions, guiding business strategies, improving customer relationships, and informing decisions both at the corporate and public levels."
   ]
  },
  {
   "cell_type": "markdown",
   "metadata": {},
   "source": [
    "### Libraries"
   ]
  },
  {
   "cell_type": "code",
   "execution_count": 1,
   "metadata": {},
   "outputs": [],
   "source": [
    "# Suppress warnings.\n",
    "import warnings\n",
    "warnings.filterwarnings('ignore')\n",
    "\n",
    "# Import the numpy and pandas package.\n",
    "import numpy as np\n",
    "import pandas as pd\n",
    "import string\n",
    "\n",
    "# Visualisation Libraries.\n",
    "import seaborn as sns\n",
    "import matplotlib.pyplot as plt\n",
    "import plotly.express as px\n",
    "import plotly.graph_objects as go\n",
    "from plotly.subplots import make_subplots\n",
    "\n",
    "# Loading NLTK.\n",
    "import nltk\n",
    "from nltk.tokenize import RegexpTokenizer\n",
    "from nltk.corpus import stopwords\n",
    "from nltk.tokenize import word_tokenize\n",
    "from nltk.stem import WordNetLemmatizer\n",
    "\n",
    "# Convert a set of texts into a word count matrix.\n",
    "from sklearn.feature_extraction.text import CountVectorizer\n",
    "from sklearn.feature_extraction.text import TfidfVectorizer\n",
    "\n",
    "# Model Training & Evaluation.\n",
    "from sklearn.model_selection import train_test_split\n",
    "from sklearn.model_selection import StratifiedKFold\n",
    "from sklearn.naive_bayes import MultinomialNB\n",
    "from sklearn.linear_model import LogisticRegression\n",
    "from sklearn import metrics"
   ]
  },
  {
   "cell_type": "code",
   "execution_count": 2,
   "metadata": {},
   "outputs": [
    {
     "name": "stdout",
     "output_type": "stream",
     "text": [
      "There are missing values in the data.\n"
     ]
    },
    {
     "data": {
      "text/html": [
       "<div>\n",
       "<style scoped>\n",
       "    .dataframe tbody tr th:only-of-type {\n",
       "        vertical-align: middle;\n",
       "    }\n",
       "\n",
       "    .dataframe tbody tr th {\n",
       "        vertical-align: top;\n",
       "    }\n",
       "\n",
       "    .dataframe thead th {\n",
       "        text-align: right;\n",
       "    }\n",
       "</style>\n",
       "<table border=\"1\" class=\"dataframe\">\n",
       "  <thead>\n",
       "    <tr style=\"text-align: right;\">\n",
       "      <th></th>\n",
       "      <th>PhraseId</th>\n",
       "      <th>SentenceId</th>\n",
       "      <th>Phrase</th>\n",
       "      <th>Sentiment</th>\n",
       "    </tr>\n",
       "  </thead>\n",
       "  <tbody>\n",
       "    <tr>\n",
       "      <th>0</th>\n",
       "      <td>1</td>\n",
       "      <td>1</td>\n",
       "      <td>A series of escapades demonstrating the adage ...</td>\n",
       "      <td>1</td>\n",
       "    </tr>\n",
       "    <tr>\n",
       "      <th>1</th>\n",
       "      <td>2</td>\n",
       "      <td>1</td>\n",
       "      <td>A series of escapades demonstrating the adage ...</td>\n",
       "      <td>2</td>\n",
       "    </tr>\n",
       "    <tr>\n",
       "      <th>2</th>\n",
       "      <td>3</td>\n",
       "      <td>1</td>\n",
       "      <td>A series</td>\n",
       "      <td>2</td>\n",
       "    </tr>\n",
       "    <tr>\n",
       "      <th>3</th>\n",
       "      <td>4</td>\n",
       "      <td>1</td>\n",
       "      <td>A</td>\n",
       "      <td>2</td>\n",
       "    </tr>\n",
       "    <tr>\n",
       "      <th>4</th>\n",
       "      <td>5</td>\n",
       "      <td>1</td>\n",
       "      <td>series</td>\n",
       "      <td>2</td>\n",
       "    </tr>\n",
       "  </tbody>\n",
       "</table>\n",
       "</div>"
      ],
      "text/plain": [
       "   PhraseId  SentenceId                                             Phrase  \\\n",
       "0         1           1  A series of escapades demonstrating the adage ...   \n",
       "1         2           1  A series of escapades demonstrating the adage ...   \n",
       "2         3           1                                           A series   \n",
       "3         4           1                                                  A   \n",
       "4         5           1                                             series   \n",
       "\n",
       "   Sentiment  \n",
       "0          1  \n",
       "1          2  \n",
       "2          2  \n",
       "3          2  \n",
       "4          2  "
      ]
     },
     "metadata": {},
     "output_type": "display_data"
    },
    {
     "data": {
      "text/html": [
       "<div>\n",
       "<style scoped>\n",
       "    .dataframe tbody tr th:only-of-type {\n",
       "        vertical-align: middle;\n",
       "    }\n",
       "\n",
       "    .dataframe tbody tr th {\n",
       "        vertical-align: top;\n",
       "    }\n",
       "\n",
       "    .dataframe thead th {\n",
       "        text-align: right;\n",
       "    }\n",
       "</style>\n",
       "<table border=\"1\" class=\"dataframe\">\n",
       "  <thead>\n",
       "    <tr style=\"text-align: right;\">\n",
       "      <th></th>\n",
       "      <th>PhraseId</th>\n",
       "      <th>SentenceId</th>\n",
       "      <th>Phrase</th>\n",
       "      <th>Sentiment</th>\n",
       "    </tr>\n",
       "  </thead>\n",
       "  <tbody>\n",
       "    <tr>\n",
       "      <th>156055</th>\n",
       "      <td>156056</td>\n",
       "      <td>8544</td>\n",
       "      <td>Hearst 's</td>\n",
       "      <td>2</td>\n",
       "    </tr>\n",
       "    <tr>\n",
       "      <th>156056</th>\n",
       "      <td>156057</td>\n",
       "      <td>8544</td>\n",
       "      <td>forced avuncular chortles</td>\n",
       "      <td>1</td>\n",
       "    </tr>\n",
       "    <tr>\n",
       "      <th>156057</th>\n",
       "      <td>156058</td>\n",
       "      <td>8544</td>\n",
       "      <td>avuncular chortles</td>\n",
       "      <td>3</td>\n",
       "    </tr>\n",
       "    <tr>\n",
       "      <th>156058</th>\n",
       "      <td>156059</td>\n",
       "      <td>8544</td>\n",
       "      <td>avuncular</td>\n",
       "      <td>2</td>\n",
       "    </tr>\n",
       "    <tr>\n",
       "      <th>156059</th>\n",
       "      <td>156060</td>\n",
       "      <td>8544</td>\n",
       "      <td>chortles</td>\n",
       "      <td>2</td>\n",
       "    </tr>\n",
       "  </tbody>\n",
       "</table>\n",
       "</div>"
      ],
      "text/plain": [
       "        PhraseId  SentenceId                     Phrase  Sentiment\n",
       "156055    156056        8544                  Hearst 's          2\n",
       "156056    156057        8544  forced avuncular chortles          1\n",
       "156057    156058        8544         avuncular chortles          3\n",
       "156058    156059        8544                  avuncular          2\n",
       "156059    156060        8544                   chortles          2"
      ]
     },
     "metadata": {},
     "output_type": "display_data"
    },
    {
     "name": "stdout",
     "output_type": "stream",
     "text": [
      "Shape of the dataset: (156060, 4)\n",
      "\n",
      "Information about the dataset:\n",
      "\n",
      "<class 'pandas.core.frame.DataFrame'>\n",
      "RangeIndex: 156060 entries, 0 to 156059\n",
      "Data columns (total 4 columns):\n",
      " #   Column      Non-Null Count   Dtype \n",
      "---  ------      --------------   ----- \n",
      " 0   PhraseId    156060 non-null  int64 \n",
      " 1   SentenceId  156060 non-null  int64 \n",
      " 2   Phrase      156058 non-null  object\n",
      " 3   Sentiment   156060 non-null  int64 \n",
      "dtypes: int64(3), object(1)\n",
      "memory usage: 4.8+ MB\n"
     ]
    }
   ],
   "source": [
    "# Checking missing value formats and read data.\n",
    "missing_value_formats = [\"na\", \"n.a.\", \"?\", \"NA\", \"n/a\", \"--\"]\n",
    "df = pd.read_csv('train.tsv', sep = '\\t', na_values=missing_value_formats)\n",
    "\n",
    "# Checking missing values.\n",
    "if df.isna().sum().sum() == 0:\n",
    "    print(\"No missing values.\")\n",
    "else:\n",
    "    print(\"There are missing values in the data.\")\n",
    "\n",
    "# Display first and last 5 records.\n",
    "display(df.head())\n",
    "display(df.tail())\n",
    "\n",
    "# Display shape.\n",
    "print(\"Shape of the dataset:\", df.shape)\n",
    "print(\"\\nInformation about the dataset:\\n\")\n",
    "\n",
    "# Returns the info.\n",
    "df.info()"
   ]
  },
  {
   "cell_type": "markdown",
   "metadata": {},
   "source": [
    "The given dataset seems to be suitable for performing text analysis, as it contains the relevant leaders for this type of task, such as \"Phrase\" and \"Sentiment\". Let's explore these individual variables, but first I'll check some data EDA details."
   ]
  },
  {
   "cell_type": "code",
   "execution_count": 3,
   "metadata": {},
   "outputs": [
    {
     "name": "stdout",
     "output_type": "stream",
     "text": [
      "No duplicate rows were found in the dataset.\n"
     ]
    }
   ],
   "source": [
    "# Check for duplicate rows.\n",
    "duplicate_rows_df = df[df.duplicated()]\n",
    "\n",
    "# Print the number of duplicate rows found and additional information.\n",
    "if duplicate_rows_df.shape[0] > 0:\n",
    "    print(\"The dataset contains\", duplicate_rows_df.shape[0], \"duplicate rows.\")\n",
    "    print(\"Here are the first few duplicate rows:\")\n",
    "    print(duplicate_rows_df.head())\n",
    "else:\n",
    "    print(\"No duplicate rows were found in the dataset.\")"
   ]
  },
  {
   "cell_type": "code",
   "execution_count": 4,
   "metadata": {},
   "outputs": [
    {
     "name": "stdout",
     "output_type": "stream",
     "text": [
      "Null values per column:\n",
      "PhraseId      0\n",
      "SentenceId    0\n",
      "Sentiment     0\n",
      "Phrase        2\n",
      "dtype: int64\n"
     ]
    }
   ],
   "source": [
    "# Check for null values.\n",
    "null_values = df.isnull().sum().sort_values()\n",
    "\n",
    "# Print the number and percentage of null values found for each column.\n",
    "print(\"Null values per column:\")\n",
    "print(null_values)"
   ]
  },
  {
   "cell_type": "code",
   "execution_count": 5,
   "metadata": {},
   "outputs": [
    {
     "name": "stdout",
     "output_type": "stream",
     "text": [
      "Null values per column:\n",
      "PhraseId      0\n",
      "SentenceId    0\n",
      "Phrase        0\n",
      "Sentiment     0\n",
      "dtype: int64\n"
     ]
    }
   ],
   "source": [
    "# Removing null values\n",
    "df = df.dropna()\n",
    "\n",
    "# Check for null values.\n",
    "null_values = df.isnull().sum().sort_values()\n",
    "\n",
    "# Print the number and percentage of null values found for each column.\n",
    "print(\"Null values per column:\")\n",
    "print(null_values)"
   ]
  },
  {
   "cell_type": "markdown",
   "metadata": {},
   "source": [
    "1. **PhraseId:** This column represents a unique identifier assigned to each phrase in the dataset. This variable can be useful for tracking and identifying specific phrases, but it may not be directly relevant to sentiment analysis.\n",
    "\n",
    "\n",
    "2. **SentenceId:** This column indicates the unique identifier assigned to each sentence in the dataset. Phrases can be grouped into sentences based on this identifier. While this variable can be useful for context and clustering analyses, it may not have a direct impact on sentiment analysis.\n",
    "\n",
    "\n",
    "3. **Sentence:** This column contains the sentences or excerpts of text that will be analyzed in terms of sentiments. This variable is of central importance for sentiment analysis as it represents the actual text in which to be interested in identifying the underlying sentiment.\n",
    "\n",
    "\n",
    "4. **Sentiment:** This column represents the target variable or label for the sentiment analysis. It is a category or numeric value to indicate the sentiment associated with each phrase. Depending on the specific dataset, this variable can have different scales or categories. For example, it could be a numeric scale from 1 to 5, where each number represents a different sentiment (eg negative, neutral, positive).\n",
    "\n",
    "###   Let's check it out !!!"
   ]
  },
  {
   "cell_type": "code",
   "execution_count": 6,
   "metadata": {},
   "outputs": [
    {
     "name": "stdout",
     "output_type": "stream",
     "text": [
      "2    79580\n",
      "3    32927\n",
      "1    27273\n",
      "4     9206\n",
      "0     7072\n",
      "Name: Sentiment, dtype: int64\n"
     ]
    },
    {
     "data": {
      "image/png": "[encoded data removed]",
      "text/plain": [
       "<Figure size 640x480 with 1 Axes>"
      ]
     },
     "metadata": {},
     "output_type": "display_data"
    }
   ],
   "source": [
    "# Count the categories in the 'Sentiment' column.\n",
    "sentiment_counts = df['Sentiment'].value_counts()\n",
    "\n",
    "# Display sentiment count.\n",
    "print(sentiment_counts)\n",
    "\n",
    "# Configure the bar chart view.\n",
    "plt.bar(sentiment_counts.index, sentiment_counts)\n",
    "plt.xlabel('Sentiment', fontsize=12)\n",
    "plt.ylabel('Count', fontsize=12)\n",
    "plt.title('Sentiment Distribution', fontsize=18, fontweight='bold')\n",
    "plt.xticks(fontsize=15)\n",
    "plt.yticks(fontsize=15)\n",
    "plt.gca().spines['top'].set_visible(False)\n",
    "plt.gca().spines['right'].set_visible(False)\n",
    "plt.show()"
   ]
  },
  {
   "cell_type": "markdown",
   "metadata": {},
   "source": [
    "As I have limited information about the sentiment labels in my dataset, I will conduct a brief exploratory investigation by examining 5 sentiments from each label. This will help me gain a better understanding of the sentiment representation within the dataset. By examining a small sample of sentiments from each label, I aim to gain insights into the range of sentiments present in the dataset and establish a preliminary understanding of the sentiments associated with each label. This exploratory analysis will provide valuable context for subsequent sentiment analysis tasks."
   ]
  },
  {
   "cell_type": "code",
   "execution_count": 7,
   "metadata": {},
   "outputs": [
    {
     "name": "stdout",
     "output_type": "stream",
     "text": [
      "Frases com rótulo 0:\n",
      "- would have a hard time sitting through this one\n",
      "- have a hard time sitting through this one\n",
      "- Aggressive self-glorification and a manipulative whitewash\n",
      "- self-glorification and a manipulative whitewash\n",
      "\n",
      "Frases com rótulo 1:\n",
      "- A series of escapades demonstrating the adage that what is good for the goose is also good for the gander , some of which occasionally amuses but none of which amounts to much of a story .\n",
      "- the gander , some of which occasionally amuses but none of which amounts to much of a story\n",
      "- but none of which amounts to much of a story\n",
      "- none of which amounts to much of a story\n",
      "\n",
      "Frases com rótulo 2:\n",
      "- A series of escapades demonstrating the adage that what is good for the goose\n",
      "- A series\n",
      "- A\n",
      "- series\n",
      "\n",
      "Frases com rótulo 3:\n",
      "- good for the goose\n",
      "- good\n",
      "- amuses\n",
      "- This quiet , introspective and entertaining independent\n",
      "\n",
      "Frases com rótulo 4:\n",
      "- This quiet , introspective and entertaining independent is worth seeking .\n",
      "- quiet , introspective and entertaining independent\n",
      "- entertaining\n",
      "- is worth seeking\n",
      "\n"
     ]
    }
   ],
   "source": [
    "# Dictionary to store the phrases of each label.\n",
    "frases_por_rotulo = {}\n",
    "\n",
    "# Read 4 sentences from each label from 0 to 4.\n",
    "for label in range(5):\n",
    "    frases_por_rotulo[label] = df[df['Sentiment'] == label]['Phrase'].head(4).tolist()\n",
    "\n",
    "for label, frases in frases_por_rotulo.items():\n",
    "    print(f\"Frases com rótulo {label}:\")\n",
    "    for frase in frases:\n",
    "        print(f\"- {frase}\")\n",
    "    print()"
   ]
  },
  {
   "cell_type": "markdown",
   "metadata": {},
   "source": [
    "Based on the sentences mentioned above, it appears that the sentiment scale in your dataset ranges from negative 0 to positive 4, with the neutral sentiment positioned at the center."
   ]
  },
  {
   "cell_type": "markdown",
   "metadata": {},
   "source": [
    "<h3 style=\"text-align:center;font-weight:bold\">Text Preprocessing, Feature Extraction, and Model Training & Evaluation</h3>"
   ]
  },
  {
   "cell_type": "markdown",
   "metadata": {},
   "source": [
    "1. Conversion of columns 'Phrase' and 'Sentiment' to string data type:\n",
    "     - This step uses the `astype()` method to convert the 'Phrase' and 'Sentiment' columns to the string data type. This is done to ensure that the data in these voices is treated as text.\n",
    "\n",
    "2. Filling in the missing values in the spoken words 'Phrase' and 'Sentiment':\n",
    "     - This step uses the `fillna()` method to fill in the missing values in the 'Phrase' and 'Sentiment' columns with an empty string (''). This is done to avoid problems during further data processing.\n",
    "\n",
    "3. Tokenization for removing unwanted elements:\n",
    "     - This step uses a tokenizer called `RegexpTokenizer` to remove unwanted data elements such as symbols and numbers. The tokenizer is configured with a regular expression `[a-zA-Z]+`, which is case-only. This helps to clean up the texts and keep only the relevant words.\n",
    "\n",
    "4. Creation of the CountVectorizer with the desired settings:\n",
    "     - In this step, a `CountVectorizer` object is created with the desired settings. `CountVectorizer` is a text pre-processing tool that transforms a set of text documents into a term count matrix. In this case, the specified settings are: convert all words to lowercase (`lowercase=True`), \"stop words\" call remover (common words that usually do not create for sorting, such as \"a\", \"o\", \" e\", etc.) using a list of English stop words (`stop_words='english'`), and use the previously defined tokenizer to tokenize the text (`tokenizer=tokenizer.tokenize`).\n",
    "\n",
    "5. Applying the CountVectorizer to the 'Phrase' column of the DataFrame:\n",
    "     - Finally, the CountVectorizer is applied to the 'Phrase' column of the DataFrame using the `fit_transform()` method. This performs the CountVectorizer fit to the data and then transforms the 'Phrase' column into a term count matrix. The result is assigned to the `text_counts` variable.\n"
   ]
  },
  {
   "cell_type": "code",
   "execution_count": 8,
   "metadata": {},
   "outputs": [],
   "source": [
    "# Convert 'Phrase' and 'Sentiment' columns to string data type.\n",
    "df['Phrase'] = df['Phrase'].astype(str)\n",
    "df['Sentiment'] = df['Sentiment'].astype(str)\n",
    "\n",
    "# Fill missing values in 'Phrase' and 'Sentiment' columns.\n",
    "df['Phrase'].fillna('', inplace=True)\n",
    "df['Sentiment'].fillna('', inplace=True)\n",
    "\n",
    "# Split the DataFrame into training and testing sets\n",
    "df_train, df_test = train_test_split(df, test_size=0.2, random_state=42)\n",
    "\n",
    "# Tokenizer to remove unwanted elements from our data like symbols and numbers\n",
    "tokenizer = RegexpTokenizer(r'[a-zA-Z]+')\n",
    "\n",
    "# Create CountVectorizer with desired configurations\n",
    "cv = CountVectorizer(lowercase=True, stop_words='english', tokenizer=tokenizer.tokenize)\n",
    "\n",
    "# Apply CountVectorizer to the 'Phrase' column in the training set\n",
    "text_counts_train = cv.fit_transform(df_train['Phrase'])"
   ]
  },
  {
   "cell_type": "markdown",
   "metadata": {},
   "source": [
    "#### Performance Evaluation of the Multinomial Naive Bayes Classification Model with Cross Validation (CountVectorizer)"
   ]
  },
  {
   "cell_type": "markdown",
   "metadata": {},
   "source": [
    "In this part of the code, the performance evaluation of a Naive Bayes Multinomial classification model using 5-fold cross-validation is performed. The evaluation metrics, including accuracy, precision, recall and F1-score, are left for each fold and then their averages are satisfied."
   ]
  },
  {
   "cell_type": "code",
   "execution_count": 9,
   "metadata": {},
   "outputs": [
    {
     "name": "stdout",
     "output_type": "stream",
     "text": [
      "Multinomial Naive Bayes Average Accuracy: 0.60\n",
      "Multinomial Naive Bayes Average Precision: 0.59\n",
      "Multinomial Naive Bayes Average Recall: 0.60\n",
      "Multinomial Naive Bayes Average F1-score: 0.59\n"
     ]
    }
   ],
   "source": [
    "skf = StratifiedKFold(n_splits=5)\n",
    "accuracy_scores = []\n",
    "precision_scores = []\n",
    "recall_scores = []\n",
    "f1_scores = []\n",
    "\n",
    "# Loop folds.\n",
    "for train_index, test_index in skf.split(text_counts_train, df_train['Sentiment']):\n",
    "    X_train_fold, X_test_fold = text_counts_train[train_index], text_counts_train[test_index]\n",
    "    y_train_fold, y_test_fold = df_train['Sentiment'].iloc[train_index], df_train['Sentiment'].iloc[test_index]\n",
    "\n",
    "    # Train the Naive Bayes Multinomial model.\n",
    "    nb_clf = MultinomialNB()\n",
    "    nb_clf.fit(X_train_fold, y_train_fold)\n",
    "\n",
    "    # Perform predictions.\n",
    "    nb_predicted = nb_clf.predict(X_test_fold)\n",
    "\n",
    "    # Calculate metrics.\n",
    "    accuracy_scores.append(metrics.accuracy_score(y_test_fold, nb_predicted))\n",
    "    precision_scores.append(metrics.precision_score(y_test_fold, nb_predicted, average='weighted'))\n",
    "    recall_scores.append(metrics.recall_score(y_test_fold, nb_predicted, average='weighted'))\n",
    "    f1_scores.append(metrics.f1_score(y_test_fold, nb_predicted, average='weighted'))\n",
    "\n",
    "# Calculate the averages of the metrics for all folds.\n",
    "avg_accuracy = sum(accuracy_scores) / len(accuracy_scores)\n",
    "avg_precision = sum(precision_scores) / len(precision_scores)\n",
    "avg_recall = sum(recall_scores) / len(recall_scores)\n",
    "avg_f1_score = sum(f1_scores) / len(f1_scores)\n",
    "print(\"Multinomial Naive Bayes Average Accuracy: {:.2f}\".format(avg_accuracy))\n",
    "print(\"Multinomial Naive Bayes Average Precision: {:.2f}\".format(avg_precision))\n",
    "print(\"Multinomial Naive Bayes Average Recall: {:.2f}\".format(avg_recall))\n",
    "print(\"Multinomial Naive Bayes Average F1-score: {:.2f}\".format(avg_f1_score))"
   ]
  },
  {
   "cell_type": "markdown",
   "metadata": {},
   "source": [
    "#### Validation and Prediction of the Naive Bayes Multinomial Classification Model using the Test Set (CountVectorizer)"
   ]
  },
  {
   "cell_type": "markdown",
   "metadata": {},
   "source": [
    "In this part of the code, the test set (df_test) is used to validate and perform the prediction of the trained model. Sentences from the test set are transformed into term counts using CountVectorizer, and then the Naive Bayes Multinomial model is used to make predictions on these sentences. Performance metrics such as accuracy, precision, recall and F1-score are compared as predictions with the actual test set symbols. Additionally, a DataFrame is created to display a sample of actual and predicted results."
   ]
  },
  {
   "cell_type": "code",
   "execution_count": 10,
   "metadata": {},
   "outputs": [
    {
     "name": "stdout",
     "output_type": "stream",
     "text": [
      "Accuracy: 0.60\n",
      "Precision: 0.59\n",
      "Recall: 0.60\n",
      "F1 Score: 0.59\n",
      "       Actual Predicted\n",
      "54489       1         2\n",
      "129027      2         3\n",
      "97611       2         2\n",
      "59043       2         3\n",
      "24415       2         2\n",
      "82955       3         2\n",
      "151348      2         3\n",
      "49349       2         2\n",
      "23607       2         2\n",
      "104882      2         2\n",
      "138358      2         2\n",
      "118487      1         1\n",
      "35102       4         3\n",
      "93411       2         2\n",
      "51068       2         2\n",
      "152046      1         2\n",
      "59536       1         2\n",
      "93971       3         3\n",
      "135467      2         2\n",
      "31420       1         1\n"
     ]
    }
   ],
   "source": [
    "# At the end, for validation and prediction, use the test set (df_test).\n",
    "text_counts_test = cv.transform(df_test['Phrase'])\n",
    "predictions = nb_clf.predict(text_counts_test)\n",
    "\n",
    "# Create a DataFrame with the actual and predicted values.\n",
    "results_df = pd.DataFrame({'Actual': df_test['Sentiment'], 'Predicted': predictions})\n",
    "\n",
    "# Calculate performance metrics.\n",
    "accuracy = metrics.accuracy_score(results_df['Actual'], results_df['Predicted'])\n",
    "precision = metrics.precision_score(results_df['Actual'], results_df['Predicted'], average='weighted')\n",
    "recall = metrics.recall_score(results_df['Actual'], results_df['Predicted'], average='weighted')\n",
    "f1_score = metrics.f1_score(results_df['Actual'], results_df['Predicted'], average='weighted')\n",
    "\n",
    "# Print the metrics.\n",
    "print(\"Accuracy: {:.2f}\".format(accuracy))\n",
    "print(\"Precision: {:.2f}\".format(precision))\n",
    "print(\"Recall: {:.2f}\".format(recall))\n",
    "print(\"F1 Score: {:.2f}\".format(f1_score))\n",
    "\n",
    "# Display the first 20 samples.\n",
    "sample_results = results_df.sample(n=20, random_state=42)\n",
    "print(sample_results)"
   ]
  },
  {
   "cell_type": "markdown",
   "metadata": {},
   "source": [
    "In the next step, we will repeat the parsing process, but with a different text extractor. Now, we will use `TfidfVectorizer` instead of `CountVectorizer`. ' and 'Sentiment' for the string type, fill in the missing values, split the DataFrame into training and test sets, then apply `TfidfVectorizer` to the training set. So you're ready to go with training and evaluation of the model using this new approach."
   ]
  },
  {
   "cell_type": "code",
   "execution_count": 11,
   "metadata": {},
   "outputs": [],
   "source": [
    "# Convert 'Phrase' and 'Sentiment' columns to string data type\n",
    "df['Phrase'] = df['Phrase'].astype(str)\n",
    "df['Sentiment'] = df['Sentiment'].astype(str)\n",
    "\n",
    "# Fill missing values in 'Phrase' and 'Sentiment' columns\n",
    "df['Phrase'].fillna('', inplace=True)\n",
    "df['Sentiment'].fillna('', inplace=True)\n",
    "\n",
    "# Split the DataFrame into training and testing sets\n",
    "df_train, df_test = train_test_split(df, test_size=0.2, random_state=42)\n",
    "\n",
    "# Tokenizer to remove unwanted elements from our data like symbols and numbers\n",
    "tokenizer = RegexpTokenizer(r'[a-zA-Z]+')\n",
    "\n",
    "# Create TfidfVectorizer with desired configurations\n",
    "tfidf = TfidfVectorizer(lowercase=True, stop_words='english', tokenizer=tokenizer.tokenize)\n",
    "\n",
    "# Apply TfidfVectorizer to the 'Phrase' column in the training set\n",
    "text_counts_train = tfidf.fit_transform(df_train['Phrase'])"
   ]
  },
  {
   "cell_type": "markdown",
   "metadata": {},
   "source": [
    "#### Performance Evaluation of the Multinomial Naive Bayes Classification Model with Cross Validation (TfidfVectorizer)"
   ]
  },
  {
   "cell_type": "code",
   "execution_count": 12,
   "metadata": {},
   "outputs": [
    {
     "name": "stdout",
     "output_type": "stream",
     "text": [
      "Multinomial Naive Bayes Average Accuracy: 0.58\n",
      "Multinomial Naive Bayes Average Precision: 0.57\n",
      "Multinomial Naive Bayes Average Recall: 0.58\n",
      "Multinomial Naive Bayes Average F1-score: 0.53\n"
     ]
    }
   ],
   "source": [
    "skf = StratifiedKFold(n_splits=5)\n",
    "accuracy_scores = []\n",
    "precision_scores = []\n",
    "recall_scores = []\n",
    "f1_scores = []\n",
    "\n",
    "# Loop folds.\n",
    "for train_index, test_index in skf.split(text_counts_train, df_train['Sentiment']):\n",
    "    X_train_fold, X_test_fold = text_counts_train[train_index], text_counts_train[test_index]\n",
    "    y_train_fold, y_test_fold = df_train['Sentiment'].iloc[train_index], df_train['Sentiment'].iloc[test_index]\n",
    "\n",
    "    # Train the Naive Bayes Multinomial model.\n",
    "    nb_clf = MultinomialNB()\n",
    "    nb_clf.fit(X_train_fold, y_train_fold)\n",
    "\n",
    "    # Perform predictions.\n",
    "    nb_predicted = nb_clf.predict(X_test_fold)\n",
    "\n",
    "    # Calculate metrics.\n",
    "    accuracy_scores.append(metrics.accuracy_score(y_test_fold, nb_predicted))\n",
    "    precision_scores.append(metrics.precision_score(y_test_fold, nb_predicted, average='weighted'))\n",
    "    recall_scores.append(metrics.recall_score(y_test_fold, nb_predicted, average='weighted'))\n",
    "    f1_scores.append(metrics.f1_score(y_test_fold, nb_predicted, average='weighted'))\n",
    "\n",
    "# Calculate the averages of the metrics for all folds.\n",
    "avg_accuracy = sum(accuracy_scores) / len(accuracy_scores)\n",
    "avg_precision = sum(precision_scores) / len(precision_scores)\n",
    "avg_recall = sum(recall_scores) / len(recall_scores)\n",
    "avg_f1_score = sum(f1_scores) / len(f1_scores)\n",
    "print(\"Multinomial Naive Bayes Average Accuracy: {:.2f}\".format(avg_accuracy))\n",
    "print(\"Multinomial Naive Bayes Average Precision: {:.2f}\".format(avg_precision))\n",
    "print(\"Multinomial Naive Bayes Average Recall: {:.2f}\".format(avg_recall))\n",
    "print(\"Multinomial Naive Bayes Average F1-score: {:.2f}\".format(avg_f1_score))"
   ]
  },
  {
   "cell_type": "markdown",
   "metadata": {},
   "source": [
    "#### Validation and Prediction of the Naive Bayes Multinomial Classification Model using the Test Set (TfidfVectorizer)"
   ]
  },
  {
   "cell_type": "code",
   "execution_count": 13,
   "metadata": {},
   "outputs": [
    {
     "name": "stdout",
     "output_type": "stream",
     "text": [
      "Accuracy: 0.60\n",
      "Precision: 0.59\n",
      "Recall: 0.60\n",
      "F1 Score: 0.59\n",
      "       Actual Predicted\n",
      "54489       1         2\n",
      "129027      2         3\n",
      "97611       2         2\n",
      "59043       2         3\n",
      "24415       2         2\n",
      "82955       3         2\n",
      "151348      2         3\n",
      "49349       2         2\n",
      "23607       2         2\n",
      "104882      2         2\n",
      "138358      2         2\n",
      "118487      1         1\n",
      "35102       4         3\n",
      "93411       2         2\n",
      "51068       2         2\n",
      "152046      1         2\n",
      "59536       1         2\n",
      "93971       3         3\n",
      "135467      2         2\n",
      "31420       1         1\n"
     ]
    }
   ],
   "source": [
    "# At the end, for validation and prediction, use the test set (df_test)\n",
    "text_counts_test = cv.transform(df_test['Phrase'])\n",
    "predictions = nb_clf.predict(text_counts_test)\n",
    "\n",
    "# Calculate performance metrics.\n",
    "accuracy = metrics.accuracy_score(results_df['Actual'], results_df['Predicted'])\n",
    "precision = metrics.precision_score(results_df['Actual'], results_df['Predicted'], average='weighted')\n",
    "recall = metrics.recall_score(results_df['Actual'], results_df['Predicted'], average='weighted')\n",
    "f1_score = metrics.f1_score(results_df['Actual'], results_df['Predicted'], average='weighted')\n",
    "\n",
    "# Print the metrics.\n",
    "print(\"Accuracy: {:.2f}\".format(accuracy))\n",
    "print(\"Precision: {:.2f}\".format(precision))\n",
    "print(\"Recall: {:.2f}\".format(recall))\n",
    "print(\"F1 Score: {:.2f}\".format(f1_score))\n",
    "\n",
    "# Create a DataFrame with the actual and predicted values.\n",
    "results_df = pd.DataFrame({'Actual': df_test['Sentiment'], 'Predicted': predictions})\n",
    "\n",
    "# Display the first 20 samples.\n",
    "sample_results = results_df.sample(n=20, random_state=42)\n",
    "print(sample_results)"
   ]
  },
  {
   "cell_type": "markdown",
   "metadata": {},
   "source": [
    "Analysis of the results:\n",
    "\n",
    "The results obtained using TfidfVectorizer in conjunction with the Multinomial Naive Bayes model showed an accuracy of 0.60, precision of 0.59, recall of 0.60 and F1 Score of 0.59. These metrics indicate that the model performed moderately in ranking the sentiments of the sentences in the test set.\n",
    "\n",
    "When analyzing the specific examples, we can observe that the model did not always hit the correct classification. For example, in the first row of the sample, the expected sentiment was 1, but the previous model as 2. Similar situations occurred in other cases.\n",
    "\n",
    "Improvement Suggestions:\n",
    "\n",
    "1. Increase the amount of training data: Adding more labeled examples to the training set can help the model better capture patterns and improve its performance.\n",
    "\n",
    "2. Experiment with other classification algorithms: In addition to Naive Bayes, it is interesting to explore other classification algorithms, such as Support Vector Machines (SVM) or Random Forests, to see if any of them present superior results.\n",
    "\n",
    "3. Tuning model hyperparameters: Experimenting with different values of model hyperparameters, such as alpha in Naive Bayes, can influence model performance and improve evaluation metrics.\n",
    "\n",
    "4. Using class balancing techniques: If the dataset has a significant imbalance between the sentiment classes, balancing techniques such as oversampling or undersampling can be applied to improve the model's ability to handle minority classes."
   ]
  },
  {
   "cell_type": "markdown",
   "metadata": {},
   "source": [
    "<h2 style=\"text-align:center;font-weight:bold\">Sentiment Classifier using Machine Learning Model</h2>"
   ]
  },
  {
   "cell_type": "markdown",
   "metadata": {},
   "source": [
    "The `classify_sentence` function is a sentiment classifier that uses a trained machine learning model. This function takes a sentence as input and performs the classification of the sentiment associated with this sentence. The model used was previously trained with a set of labeled data, where each sentence is associated with a specific feeling. Based on patterns identified during training, the model is able to predict the sentiment of new sentences. This function is useful for analyzing the sentiment expressed in a text and can be applied in several areas, such as analyzing customer opinions and monitoring social networks."
   ]
  },
  {
   "cell_type": "code",
   "execution_count": 14,
   "metadata": {},
   "outputs": [],
   "source": [
    "def preprocess_text(text):\n",
    "    # Remove punctuation.\n",
    "    text = text.translate(str.maketrans(\"\", \"\", string.punctuation))\n",
    "\n",
    "    # Convert to lowercase.\n",
    "    text = text.lower()\n",
    "\n",
    "    # Tokenize the text\n",
    "    tokens = word_tokenize(text)\n",
    "\n",
    "    # Remove stopwords.\n",
    "    stop_words = set(stopwords.words(\"english\"))\n",
    "    tokens = [word for word in tokens if word not in stop_words]\n",
    "\n",
    "    # Lemmatize the tokens.\n",
    "    lemmatizer = WordNetLemmatizer()\n",
    "    tokens = [lemmatizer.lemmatize(word) for word in tokens]\n",
    "\n",
    "    # Reconstruct the preprocessed text\n",
    "    preprocessed_text = \" \".join(tokens)\n",
    "\n",
    "    return preprocessed_text"
   ]
  },
  {
   "cell_type": "code",
   "execution_count": 15,
   "metadata": {},
   "outputs": [],
   "source": [
    "def classify_sentence(sentence):\n",
    "    # Convert to string data type\n",
    "    sentence = str(sentence)\n",
    "\n",
    "    # Preprocess the input sentence\n",
    "    preprocessed_sentence = preprocess_text(sentence)\n",
    "\n",
    "    # Transform the preprocessed sentence using the chosen vectorizer\n",
    "    sentence_vector = tfidf.transform([preprocessed_sentence])\n",
    "\n",
    "    # Make predictions using the trained model\n",
    "    predicted_sentiment = nb_clf.predict(sentence_vector)\n",
    "\n",
    "    # Print the predicted sentiment\n",
    "    print(\"Predicted Sentiment: {}\".format(predicted_sentiment[0]))"
   ]
  },
  {
   "cell_type": "code",
   "execution_count": 16,
   "metadata": {},
   "outputs": [
    {
     "name": "stdout",
     "output_type": "stream",
     "text": [
      "Predicted Sentiment: 1\n"
     ]
    }
   ],
   "source": [
    "classify_sentence(\"this movie is a waste of time\")"
   ]
  },
  {
   "cell_type": "code",
   "execution_count": 17,
   "metadata": {},
   "outputs": [
    {
     "name": "stdout",
     "output_type": "stream",
     "text": [
      "Predicted Sentiment: 3\n"
     ]
    }
   ],
   "source": [
    "classify_sentence(\"this is an excellent movie\")"
   ]
  },
  {
   "cell_type": "markdown",
   "metadata": {},
   "source": [
    "<h2 style=\"text-align:center;font-weight:bold\">Reference</h2>"
   ]
  },
  {
   "cell_type": "markdown",
   "metadata": {},
   "source": [
    "<p>https://www.datacamp.com/community/tutorials/text-analytics-beginners-nltk</p>"
   ]
  },
  {
   "cell_type": "code",
   "execution_count": null,
   "metadata": {},
   "outputs": [],
   "source": []
  }
 ],
 "metadata": {
  "kernelspec": {
   "display_name": "Python 3",
   "language": "python",
   "name": "python3"
  },
  "language_info": {
   "codemirror_mode": {
    "name": "ipython",
    "version": 3
   },
   "file_extension": ".py",
   "mimetype": "text/x-python",
   "name": "python",
   "nbconvert_exporter": "python",
   "pygments_lexer": "ipython3",
   "version": "3.8.5"
  }
 },
 "nbformat": 4,
 "nbformat_minor": 4
}
